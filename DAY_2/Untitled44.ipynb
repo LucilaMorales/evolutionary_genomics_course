{
 "cells": [
  {
   "cell_type": "code",
   "execution_count": null,
   "id": "9831dd41",
   "metadata": {},
   "outputs": [],
   "source": [
    "import pandas as pd\n",
    "import matplotlib.pyplot as plt\n",
    "import numpy as np\n",
    "\n",
    "# Definir la ruta del archivo\n",
    "file_path = '/path/egwas_BrownSpolar.egwas'\n",
    "\n",
    "# Leer el archivo por partes usando chunksize\n",
    "chunksize = 100000  # ajustar este valor según tu memoria disponible\n",
    "chunks = pd.read_csv(file_path, delim_whitespace=True, chunksize=chunksize)\n",
    "\n",
    "# Procesar los datos por partes y almacenarlos en una lista\n",
    "data_list = []\n",
    "\n",
    "for chunk in chunks:\n",
    "    # Reemplazar comas por puntos en las columnas numéricas y convertirlas a numéricas\n",
    "    chunk['P'] = pd.to_numeric(chunk['P'].str.replace(',', '.'), errors='coerce')\n",
    "    data_list.append(chunk)\n",
    "\n",
    "# Combinar todas las partes en un solo DataFrame\n",
    "data = pd.concat(data_list)\n",
    "\n",
    "# Crear columna -log10(P)\n",
    "data['-log10(P)'] = -np.log10(data['P'])\n",
    "\n",
    "# Filtrar datos significativos\n",
    "significant_threshold = 5e-8\n",
    "data['significant'] = data['P'] < significant_threshold\n",
    "\n",
    "# Crear el Manhattan plot\n",
    "fig, ax1 = plt.subplots(figsize=(16, 4))\n",
    "\n",
    "# Gráfico de todos los SNPs\n",
    "ax1.scatter(data.index, data['-log10(P)'], c='black', s=7)\n",
    "\n",
    "# Añadir la línea de significancia\n",
    "ax1.axhline(y=-np.log10(significant_threshold), color='grey', linestyle='dotted')\n",
    "\n",
    "# Añadir etiquetas y título\n",
    "ax1.set_xlabel('SNP Index')\n",
    "ax1.set_ylabel('-log10(P)')\n",
    "plt.title('SNP outlier')\n",
    "\n",
    "# Resaltar los SNPs más significativos\n",
    "ax1.scatter(data[data['significant']].index, data[data['significant']]['-log10(P)'], c='red', s=7)\n",
    "\n",
    "# Crear un segundo eje y para -ln(p-value)\n",
    "ax2 = ax1.twinx()\n",
    "ax2.set_ylabel('-ln(P)')\n",
    "ax2.set_ylim(ax1.get_ylim())\n",
    "ax2.set_yticks(ax1.get_yticks())\n",
    "ax2.set_yticklabels([f\"{-np.log(10**-y):.0f}\" for y in ax1.get_yticks()])\n",
    "\n",
    "plt.show()"
   ]
  }
 ],
 "metadata": {
  "kernelspec": {
   "display_name": "Python 3 (ipykernel)",
   "language": "python",
   "name": "python3"
  },
  "language_info": {
   "codemirror_mode": {
    "name": "ipython",
    "version": 3
   },
   "file_extension": ".py",
   "mimetype": "text/x-python",
   "name": "python",
   "nbconvert_exporter": "python",
   "pygments_lexer": "ipython3",
   "version": "3.9.7"
  }
 },
 "nbformat": 4,
 "nbformat_minor": 5
}
